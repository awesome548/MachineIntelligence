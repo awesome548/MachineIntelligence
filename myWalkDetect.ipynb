{
 "cells": [
  {
   "cell_type": "code",
   "execution_count": 12,
   "metadata": {},
   "outputs": [],
   "source": [
    "import numpy as np\n",
    "import matplotlib.pyplot as plt\n",
    "import pandas as pd\n",
    "import torch\n",
    "import torch.nn as nn\n",
    "import torch.nn.functional as F\n",
    "from sklearn.preprocessing import MinMaxScaler\n",
    "from torchinfo import summary\n",
    "\n",
    "from ignite.engine import *\n",
    "from ignite.handlers import *\n",
    "from ignite.metrics import *\n",
    "from ignite.utils import *\n",
    "from ignite.contrib.metrics.regression import *\n",
    "from ignite.contrib.metrics import *"
   ]
  },
  {
   "cell_type": "markdown",
   "metadata": {},
   "source": [
    "## scale data"
   ]
  },
  {
   "cell_type": "code",
   "execution_count": null,
   "metadata": {},
   "outputs": [],
   "source": [
    "f = open(\"./Dataset/myData/kikuzo0701.csv\")\n",
    "f_o = open(\"./Dataset/myData/kikuzo0701_out.csv\", \"w\")\n",
    "\n",
    "line = f.readline()\n",
    "while line:\n",
    "    f_o.writelines([line[:-7], \"\\n\"])\n",
    "    line = f.readline()\n",
    "\n",
    "f.close()\n",
    "f_o.close()"
   ]
  },
  {
   "cell_type": "code",
   "execution_count": 15,
   "metadata": {},
   "outputs": [
    {
     "name": "stdout",
     "output_type": "stream",
     "text": [
      "(58634, 7)\n",
      "(65271, 7)\n",
      "(65246, 7)\n"
     ]
    }
   ],
   "source": [
    "device = torch.device('cuda:0' if torch.cuda.is_available() else 'cpu')\n",
    "path = \"./Dataset/myData/\"\n",
    "mmscaler = MinMaxScaler(feature_range=(-1, 1), copy=True)\n",
    "\n",
    "#training set\n",
    "amaya_data = np.loadtxt(path + \"amaya0701_out.csv\", delimiter=\",\", skiprows=100)\n",
    "kikuzo_data = np.loadtxt(path + \"Kikuzo0701_out.csv\", delimiter=\",\", skiprows=100)\n",
    "rinto_data = np.loadtxt(path + \"rinto0701_out.csv\", delimiter=\",\", skiprows=100)\n",
    "print(amaya_data.shape)\n",
    "print(kikuzo_data.shape)\n",
    "print(rinto_data.shape)\n",
    "\n",
    "# train_t = np.loadtxt(path + \"train/y_train.txt\").astype(int)\n",
    "# train_s = np.loadtxt(path + \"train/subject_train.txt\").astype(int)\n",
    "\n",
    "# #test set\n",
    "# test_ax = mmscaler.fit_transform(np.loadtxt(path + \"test/Inertial Signals/total_acc_x_test.txt\"))\n",
    "# test_ay = mmscaler.fit_transform(np.loadtxt(path + \"test/Inertial Signals/total_acc_y_test.txt\"))\n",
    "# test_az = mmscaler.fit_transform(np.loadtxt(path + \"test/Inertial Signals/total_acc_z_test.txt\"))\n",
    "\n",
    "# test_t = np.loadtxt(path + \"test/y_test.txt\").astype(int)\n",
    "# test_s = np.loadtxt(path + \"test/subject_test.txt\").astype(int)\n",
    "\n",
    "# print(train_t)"
   ]
  },
  {
   "cell_type": "code",
   "execution_count": null,
   "metadata": {},
   "outputs": [],
   "source": []
  }
 ],
 "metadata": {
  "kernelspec": {
   "display_name": "Python 3.9.12 ('env': venv)",
   "language": "python",
   "name": "python3"
  },
  "language_info": {
   "codemirror_mode": {
    "name": "ipython",
    "version": 3
   },
   "file_extension": ".py",
   "mimetype": "text/x-python",
   "name": "python",
   "nbconvert_exporter": "python",
   "pygments_lexer": "ipython3",
   "version": "3.10.4"
  },
  "orig_nbformat": 4,
  "vscode": {
   "interpreter": {
    "hash": "80f1979eed7bd90e93f7098e88a58aab24ec26102a23b5ea93df2879eff80801"
   }
  }
 },
 "nbformat": 4,
 "nbformat_minor": 2
}
