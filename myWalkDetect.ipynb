{
 "cells": [
  {
   "cell_type": "code",
   "execution_count": 103,
   "metadata": {},
   "outputs": [],
   "source": [
    "import numpy as np\n",
    "import matplotlib.pyplot as plt\n",
    "import pandas as pd\n",
    "import torch\n",
    "import torch.nn as nn\n",
    "import torch.nn.functional as F\n",
    "from sklearn.preprocessing import MinMaxScaler\n",
    "from torchinfo import summary\n",
    "\n",
    "from ignite.engine import *\n",
    "from ignite.handlers import *\n",
    "from ignite.metrics import *\n",
    "from ignite.utils import *\n",
    "from ignite.contrib.metrics.regression import *\n",
    "from ignite.contrib.metrics import *"
   ]
  },
  {
   "cell_type": "markdown",
   "metadata": {},
   "source": [
    "## scale data"
   ]
  },
  {
   "cell_type": "code",
   "execution_count": 104,
   "metadata": {},
   "outputs": [],
   "source": [
    "seq_len = 128\n",
    "input_size = 3\n",
    "train_size = 950\n",
    "test_size = 200\n",
    "test_minisize = 50\n",
    "output_size = 2\n",
    "hidden_size_1 = 50\n",
    "hidden_size_2 = 70\n",
    "epoch_num = 500\n",
    "batch = 32\n",
    "learning_rate = 0.001"
   ]
  },
  {
   "cell_type": "code",
   "execution_count": 105,
   "metadata": {},
   "outputs": [
    {
     "data": {
      "text/plain": [
       "'\\nf = open(\"./Dataset/myData/person007.csv\")\\nf_o = open(\"./Dataset/myData/person_007.csv\", \"w\")\\n\\nline = f.readline()\\nwhile line:\\n    f_o.writelines([line[:-7], \"\\n\"])\\n    line = f.readline()\\n\\nf.close()\\nf_o.close()\\n'"
      ]
     },
     "execution_count": 105,
     "metadata": {},
     "output_type": "execute_result"
    }
   ],
   "source": [
    "\"\"\"\n",
    "f = open(\"./Dataset/myData/person007.csv\")\n",
    "f_o = open(\"./Dataset/myData/person_007.csv\", \"w\")\n",
    "\n",
    "line = f.readline()\n",
    "while line:\n",
    "    f_o.writelines([line[:-7], \"\\n\"])\n",
    "    line = f.readline()\n",
    "\n",
    "f.close()\n",
    "f_o.close()\n",
    "\"\"\""
   ]
  },
  {
   "cell_type": "code",
   "execution_count": 106,
   "metadata": {},
   "outputs": [
    {
     "name": "stdout",
     "output_type": "stream",
     "text": [
      "(65321, 3)\n",
      "(58684, 3)\n",
      "(65296, 3)\n",
      "(12201, 3)\n",
      "(18690, 3)\n",
      "(18956, 3)\n",
      "(15551, 3)\n",
      "(19113, 3)\n",
      "(510, 128, 3)\n",
      "(458, 128, 3)\n",
      "(510, 128, 3)\n",
      "(95, 128, 3)\n",
      "(146, 128, 3)\n",
      "(148, 128, 3)\n",
      "(121, 128, 3)\n",
      "(149, 128, 3)\n"
     ]
    }
   ],
   "source": [
    "device = torch.device('cuda:0' if torch.cuda.is_available() else 'cpu')\n",
    "path = \"./Dataset/myData/\"\n",
    "mmscaler = MinMaxScaler(feature_range=(-1, 1), copy=True)\n",
    "\n",
    "#training set\n",
    "# amaya_data = np.loadtxt(path + \"amaya0701_out.csv\", delimiter=\",\", skiprows=100)\n",
    "# kikuzo_data = np.loadtxt(path + \"kikuzo0701_out.csv\", delimiter=\",\", skiprows=100)\n",
    "# rinto_data = np.loadtxt(path + \"rinto0701_out.csv\", delimiter=\",\", skiprows=100)\n",
    "person000 = np.loadtxt(path + \"person_000.csv\", delimiter=\",\", skiprows=50)\n",
    "person001 = np.loadtxt(path + \"person_001.csv\", delimiter=\",\", skiprows=50)\n",
    "person002 = np.loadtxt(path + \"person_002.csv\", delimiter=\",\", skiprows=50)\n",
    "person003 = np.loadtxt(path + \"person_003.csv\", delimiter=\",\", skiprows=50)\n",
    "person004 = np.loadtxt(path + \"person_004.csv\", delimiter=\",\", skiprows=50)\n",
    "person005 = np.loadtxt(path + \"person_005.csv\", delimiter=\",\", skiprows=50)\n",
    "person006 = np.loadtxt(path + \"person_006.csv\", delimiter=\",\", skiprows=50)\n",
    "person007 = np.loadtxt(path + \"person_007.csv\", delimiter=\",\", skiprows=50)\n",
    "\n",
    "d_000 = person000[:,1:4]\n",
    "d_001 = person001[:,1:4]\n",
    "d_002 = person002[:,1:4]\n",
    "d_003 = person003[:,1:4]\n",
    "d_004 = person004[:,1:4]\n",
    "d_005 = person005[:,1:4]\n",
    "d_006 = person006[:,1:4]\n",
    "d_007 = person007[:,1:4]\n",
    "\n",
    "print(d_000.shape)\n",
    "print(d_001.shape)\n",
    "print(d_002.shape)\n",
    "print(d_003.shape)\n",
    "print(d_004.shape)\n",
    "print(d_005.shape)\n",
    "print(d_006.shape)\n",
    "print(d_007.shape)\n",
    "\n",
    "data_000 = np.ones((int(len(d_000)/seq_len), seq_len, input_size), float)\n",
    "data_001 = np.ones((int(len(d_001)/seq_len), seq_len, input_size), float)\n",
    "data_002 = np.ones((int(len(d_002)/seq_len), seq_len, input_size), float)\n",
    "data_003 = np.ones((int(len(d_003)/seq_len), seq_len, input_size), float)\n",
    "data_004 = np.ones((int(len(d_004)/seq_len), seq_len, input_size), float)\n",
    "data_005 = np.ones((int(len(d_005)/seq_len), seq_len, input_size), float)\n",
    "data_006 = np.ones((int(len(d_006)/seq_len), seq_len, input_size), float)\n",
    "data_007 = np.ones((int(len(d_007)/seq_len), seq_len, input_size), float)\n",
    "\n",
    "for i in range(int(len(d_000)/seq_len)):\n",
    "    data_000[i,:,:] = d_000[i*seq_len:(i+1)*seq_len,:]\n",
    "for i in range(int(len(d_001)/seq_len)):\n",
    "    data_001[i,:,:] = d_001[i*seq_len:(i+1)*seq_len,:]\n",
    "for i in range(int(len(d_002)/seq_len)):\n",
    "    data_002[i,:,:] = d_002[i*seq_len:(i+1)*seq_len,:]\n",
    "for i in range(int(len(d_003)/seq_len)):\n",
    "    data_003[i,:,:] = d_003[i*seq_len:(i+1)*seq_len,:]\n",
    "for i in range(int(len(d_004)/seq_len)):\n",
    "    data_004[i,:,:] = d_004[i*seq_len:(i+1)*seq_len,:]\n",
    "for i in range(int(len(d_005)/seq_len)):\n",
    "    data_005[i,:,:] = d_005[i*seq_len:(i+1)*seq_len,:]\n",
    "for i in range(int(len(d_006)/seq_len)):\n",
    "    data_006[i,:,:] = d_006[i*seq_len:(i+1)*seq_len,:]\n",
    "for i in range(int(len(d_007)/seq_len)):\n",
    "    data_007[i,:,:] = d_007[i*seq_len:(i+1)*seq_len,:]\n",
    "\n",
    "    \n",
    "print(data_000.shape)\n",
    "print(data_001.shape)\n",
    "print(data_002.shape)\n",
    "print(data_003.shape)\n",
    "print(data_004.shape)\n",
    "print(data_005.shape)\n",
    "print(data_006.shape)\n",
    "print(data_007.shape)\n",
    "\n"
   ]
  },
  {
   "cell_type": "code",
   "execution_count": 107,
   "metadata": {},
   "outputs": [
    {
     "name": "stdout",
     "output_type": "stream",
     "text": [
      "(945, 128, 3)\n",
      "(200, 128, 3)\n",
      "(950,)\n",
      "(200,)\n"
     ]
    }
   ],
   "source": [
    "train000 = data_000[:100]\n",
    "train001 = data_001[:350]\n",
    "train002 = data_002[:100]\n",
    "train003 = data_003[:100]\n",
    "train004 = data_004[:100]\n",
    "train005 = data_005[:100]\n",
    "train006 = data_006[:100]\n",
    "train007 = data_007[:100]\n",
    "\n",
    "trX = np.vstack([train001, train000])\n",
    "trX = np.vstack([trX, train002])\n",
    "trX = np.vstack([trX, train003])\n",
    "trX = np.vstack([trX, train004])\n",
    "trX = np.vstack([trX, train005])\n",
    "trX = np.vstack([trX, train006])\n",
    "print(trX.shape)\n",
    "\n",
    "test001 = data_001[350:450]\n",
    "test006 = data_006[:100]\n",
    "test007 = data_007[:100]\n",
    "\n",
    "teX = np.vstack([test001, test007])\n",
    "print(teX.shape)\n",
    "\n",
    "trY = np.zeros(train_size, int)\n",
    "trY[350:950] = np.ones(600, int)\n",
    "print(trY.shape)\n",
    "\n",
    "teY = np.zeros(test_size, int)\n",
    "teY[100:200] = np.ones(100,int)\n",
    "print(teY.shape)"
   ]
  },
  {
   "cell_type": "code",
   "execution_count": 108,
   "metadata": {},
   "outputs": [
    {
     "name": "stdout",
     "output_type": "stream",
     "text": [
      "trainX.shape:torch.Size([945, 128, 3])\n",
      "trainY.shape:torch.Size([950])\n",
      "testX.shape:torch.Size([200, 128, 3])\n",
      "testY.shape:torch.Size([200])\n",
      "trainY.shape:torch.Size([950, 2])\n",
      "trainY: tensor([[1., 0.],\n",
      "        [1., 0.],\n",
      "        [1., 0.],\n",
      "        ...,\n",
      "        [0., 1.],\n",
      "        [0., 1.],\n",
      "        [0., 1.]], device='cuda:0')\n",
      "testY: tensor([0., 0., 0., 0., 0., 0., 0., 0., 0., 0., 0., 0., 0., 0., 0., 0., 0., 0.,\n",
      "        0., 0., 0., 0., 0., 0., 0., 0., 0., 0., 0., 0., 0., 0., 0., 0., 0., 0.,\n",
      "        0., 0., 0., 0., 0., 0., 0., 0., 0., 0., 0., 0., 0., 0., 0., 0., 0., 0.,\n",
      "        0., 0., 0., 0., 0., 0., 0., 0., 0., 0., 0., 0., 0., 0., 0., 0., 0., 0.,\n",
      "        0., 0., 0., 0., 0., 0., 0., 0., 0., 0., 0., 0., 0., 0., 0., 0., 0., 0.,\n",
      "        0., 0., 0., 0., 0., 0., 0., 0., 0., 0., 1., 1., 1., 1., 1., 1., 1., 1.,\n",
      "        1., 1., 1., 1., 1., 1., 1., 1., 1., 1., 1., 1., 1., 1., 1., 1., 1., 1.,\n",
      "        1., 1., 1., 1., 1., 1., 1., 1., 1., 1., 1., 1., 1., 1., 1., 1., 1., 1.,\n",
      "        1., 1., 1., 1., 1., 1., 1., 1., 1., 1., 1., 1., 1., 1., 1., 1., 1., 1.,\n",
      "        1., 1., 1., 1., 1., 1., 1., 1., 1., 1., 1., 1., 1., 1., 1., 1., 1., 1.,\n",
      "        1., 1., 1., 1., 1., 1., 1., 1., 1., 1., 1., 1., 1., 1., 1., 1., 1., 1.,\n",
      "        1., 1.], device='cuda:0')\n"
     ]
    }
   ],
   "source": [
    "trainX = torch.Tensor(np.array(trX)).to(device)\n",
    "trainY = torch.Tensor(np.array(trY)).to(device)\n",
    "\n",
    "testX = torch.Tensor(np.array(teX)).to(device)\n",
    "testY = torch.Tensor(np.array(teY)).to(device)\n",
    "\n",
    "print('trainX.shape:{0}'.format(trainX.shape))\n",
    "print('trainY.shape:{0}'.format(trainY.shape))\n",
    "print('testX.shape:{0}'.format(testX.shape))\n",
    "print('testY.shape:{0}'.format(testY.shape))\n",
    "\n",
    "# trainYをone-hotにするためlongにsuru\n",
    "trainY = trainY.long()\n",
    "# one-hotにする \n",
    "trainY = F.one_hot(trainY, num_classes=output_size)\n",
    "# 誤差を計算できるようにfloatに直す\n",
    "trainY = trainY.float()\n",
    "# trY one-hotにする\n",
    "trY = trainY.cpu().data.numpy()\n",
    "\n",
    "#testY one-hot ni sinai!\n",
    "print('trainY.shape:{0}'.format(trainY.shape))\n",
    "print('trainY: {0}'.format(trainY))\n",
    "print('testY: {0}'.format(testY))"
   ]
  },
  {
   "cell_type": "markdown",
   "metadata": {},
   "source": [
    "## Dataset Dataloader"
   ]
  },
  {
   "cell_type": "code",
   "execution_count": 109,
   "metadata": {},
   "outputs": [],
   "source": [
    "class DataSet:\n",
    "    def __init__(self):\n",
    "        self.X = trX.astype(np.float32) # 入力\n",
    "        self.t = trY # 出力\n",
    "\n",
    "    def __len__(self):\n",
    "        return len(self.X) # データ数(10)を返す\n",
    "\n",
    "    def __getitem__(self, index):\n",
    "        # index番目の入出力ペアを返す\n",
    "        return self.X[index], self.t[index]"
   ]
  },
  {
   "cell_type": "code",
   "execution_count": 110,
   "metadata": {},
   "outputs": [],
   "source": [
    "# さっき作ったDataSetクラスのインスタンスを作成\n",
    "dataset = DataSet()\n",
    "# datasetをDataLoaderの引数とすることでミニバッチを作成．\n",
    "dataloader = torch.utils.data.DataLoader(dataset, batch_size=batch, \\\n",
    "                                         shuffle=True, drop_last=True)"
   ]
  },
  {
   "cell_type": "markdown",
   "metadata": {},
   "source": [
    "## Model"
   ]
  },
  {
   "cell_type": "code",
   "execution_count": 111,
   "metadata": {},
   "outputs": [],
   "source": [
    "class MyLSTM(nn.Module):\n",
    "    def __init__(self):\n",
    "        super().__init__()\n",
    "        self.input_size = input_size\n",
    "        self.hidden_size_1 = hidden_size_1\n",
    "        self.hidden_size_2 = hidden_size_2\n",
    "        self.cnn = CNN()\n",
    "        self.lstm_1 = nn.LSTM(input_size=self.input_size, hidden_size=self.hidden_size_1, \\\n",
    "                              num_layers=1, batch_first=True) \n",
    "        self.lstm_2 = nn.LSTM(input_size=self.hidden_size_1, hidden_size=self.hidden_size_2, \\\n",
    "                             num_layers=1, batch_first=True) \n",
    "        self.relu = nn.ReLU()\n",
    "        #self.linear = nn.Linear(self.hidden_size_1, output_size)\n",
    "        self.linear = nn.Linear(self.hidden_size_2, output_size)\n",
    "        #self.softmax = nn.Softmax(-1)\n",
    "\n",
    "    def forward(self, x):\n",
    "        # self.cnn(x)\n",
    "        h_0 = torch.zeros(1, x.size(0), self.hidden_size_1).to(device)\n",
    "        c_0 = torch.zeros(1, x.size(0), self.hidden_size_1).to(device)\n",
    "        h_1 = torch.zeros(1, x.size(0), self.hidden_size_2).to(device)\n",
    "        c_1 = torch.zeros(1, x.size(0), self.hidden_size_2).to(device)\n",
    "        out, (h_out, c_out) = self.lstm_1(x, (h_0, c_0))\n",
    "        _, (h_out, _) = self.lstm_2(out, (h_1, c_1))\n",
    "        #h_out = h_out.view(-1, self.hidden_size_1)\n",
    "        h_out = h_out.view(-1, self.hidden_size_2)\n",
    "        h_out = self.relu(h_out)\n",
    "        y_hat = self.linear(h_out)\n",
    "        #y_hat = self.softmax(h_out)\n",
    "        return y_hat\n",
    "\n",
    "class CNN(nn.Module):\n",
    "    def __init__(self):\n",
    "        super().__init__()\n",
    "        self.input_size = input_size\n",
    "        # cnn\n",
    "        \n",
    "        self.relu = nn.ReLU()\n",
    "        \n",
    "\n",
    "    def forward(self, x):\n",
    "        \n",
    "        # cnn\n",
    "        h_out = self.relu(h_out)\n",
    "        \n",
    "        \n",
    "        return y_hat"
   ]
  },
  {
   "cell_type": "code",
   "execution_count": 112,
   "metadata": {},
   "outputs": [],
   "source": [
    "def train(model, optimizer, X, t):\n",
    "  model.train()\n",
    "  y_hat = model(X)\n",
    "  # print(y_hat.shape)\n",
    "  # loss = F.mse_loss(y_hat, trainY)\n",
    "  loss = nn.CrossEntropyLoss()\n",
    "  output = loss(y_hat, t)\n",
    "  optimizer.zero_grad()\n",
    "  output.backward()\n",
    "  optimizer.step()\n",
    "  return output.item()\n",
    "\n",
    "loss = []\n",
    "\n",
    "\n",
    "def main():\n",
    "  model = MyLSTM()\n",
    "  optimizer = torch.optim.SGD(model.parameters(), lr=learning_rate)\n",
    "  model = model.to(device)\n",
    "  for epoch in range(epoch_num):\n",
    "    for X, t in dataloader:\n",
    "      _loss = train(model, optimizer, X.to(device), t.to(device))\n",
    "      loss.append(_loss)\n",
    "    if epoch % 20 == 0:\n",
    "      print(f\"Epoch = {epoch+1}, Loss = {_loss:.5f}\")\n",
    "  return model"
   ]
  },
  {
   "cell_type": "code",
   "execution_count": 113,
   "metadata": {},
   "outputs": [],
   "source": [
    "def eval_step(engine, batch):\n",
    "    return batch\n",
    "\n",
    "default_evaluator = Engine(eval_step)\n",
    "\n",
    "# create default optimizer for doctests\n",
    "\n",
    "param_tensor = torch.zeros([1], requires_grad=True)\n",
    "default_optimizer = torch.optim.SGD([param_tensor], lr=learning_rate)\n",
    "\n",
    "# create default trainer for doctests\n",
    "# as handlers could be attached to the trainer,\n",
    "# each test must define his own trainer using `.. testsetup:`\n",
    "\n",
    "def get_default_trainer():\n",
    "\n",
    "    def train_step(engine, batch):\n",
    "        return batch\n",
    "\n",
    "    return Engine(train_step)\n",
    "\n",
    "# create default model for doctests\n",
    "\n",
    "# default_model = nn.Sequential(OrderedDict([\n",
    "#     ('base', nn.Linear(4, 2)),\n",
    "#     ('fc', nn.Linear(2, 1))\n",
    "# ]))\n",
    "\n",
    "# manual_seed(666)"
   ]
  },
  {
   "cell_type": "code",
   "execution_count": 114,
   "metadata": {},
   "outputs": [],
   "source": [
    "def predict(model):\n",
    "  model.eval()\n",
    "  train_predict = model(testX)\n",
    "  print(train_predict.shape)\n",
    "  \n",
    "  data_predict = torch.argmax(train_predict, dim=1)\n",
    "  data_predict = F.one_hot(data_predict, num_classes=output_size)\n",
    "  \n",
    "  metric = ConfusionMatrix(num_classes=output_size)\n",
    "  metric.attach(default_evaluator, 'cm')\n",
    "  y_true = testY.int()\n",
    "  y_pred = data_predict\n",
    "  print(y_true.shape)\n",
    "  print(y_pred.shape)\n",
    "\n",
    "  state = default_evaluator.run([[y_pred, y_true]])\n",
    "  print(state.metrics['cm'])\n"
   ]
  },
  {
   "cell_type": "code",
   "execution_count": 115,
   "metadata": {},
   "outputs": [
    {
     "name": "stdout",
     "output_type": "stream",
     "text": [
      "Epoch = 1, Loss = 0.69622\n",
      "Epoch = 21, Loss = 0.67152\n",
      "Epoch = 41, Loss = 0.60541\n",
      "Epoch = 61, Loss = 0.71150\n",
      "Epoch = 81, Loss = 0.58716\n",
      "Epoch = 101, Loss = 0.69970\n",
      "Epoch = 121, Loss = 0.68746\n",
      "Epoch = 141, Loss = 0.58151\n",
      "Epoch = 161, Loss = 0.60981\n",
      "Epoch = 181, Loss = 0.59752\n",
      "Epoch = 201, Loss = 0.60811\n",
      "Epoch = 221, Loss = 0.58593\n",
      "Epoch = 241, Loss = 0.50315\n",
      "Epoch = 261, Loss = 0.52121\n",
      "Epoch = 281, Loss = 0.46597\n",
      "Epoch = 301, Loss = 0.35339\n",
      "Epoch = 321, Loss = 0.25588\n",
      "Epoch = 341, Loss = 0.24819\n",
      "Epoch = 361, Loss = 0.25497\n",
      "Epoch = 381, Loss = 1.05851\n",
      "Epoch = 401, Loss = 0.38083\n",
      "Epoch = 421, Loss = 0.72754\n",
      "Epoch = 441, Loss = 0.19758\n",
      "Epoch = 461, Loss = 0.18859\n",
      "Epoch = 481, Loss = 0.14683\n"
     ]
    }
   ],
   "source": [
    "model = main()"
   ]
  },
  {
   "cell_type": "code",
   "execution_count": 116,
   "metadata": {
    "scrolled": false
   },
   "outputs": [
    {
     "name": "stdout",
     "output_type": "stream",
     "text": [
      "torch.Size([200, 2])\n",
      "torch.Size([200])\n",
      "torch.Size([200, 2])\n",
      "tensor([[ 98,   2],\n",
      "        [  0, 100]])\n"
     ]
    }
   ],
   "source": [
    "predict(model)"
   ]
  },
  {
   "cell_type": "code",
   "execution_count": 117,
   "metadata": {},
   "outputs": [
    {
     "data": {
      "image/png": "[encoded data removed]",
      "text/plain": [
       "<Figure size 432x288 with 1 Axes>"
      ]
     },
     "metadata": {
      "needs_background": "light"
     },
     "output_type": "display_data"
    }
   ],
   "source": [
    "stop = len(loss)\n",
    "step = int(len(loss) / epoch_num)\n",
    "plt.plot(loss[0:stop:step], '.', label = \"test_error\")\n",
    "plt.show()"
   ]
  },
  {
   "cell_type": "markdown",
   "metadata": {},
   "source": []
  }
 ],
 "metadata": {
  "kernelspec": {
   "display_name": "Python 3.8.10 64-bit",
   "language": "python",
   "name": "python3"
  },
  "language_info": {
   "codemirror_mode": {
    "name": "ipython",
    "version": 3
   },
   "file_extension": ".py",
   "mimetype": "text/x-python",
   "name": "python",
   "nbconvert_exporter": "python",
   "pygments_lexer": "ipython3",
   "version": "3.8.10"
  },
  "vscode": {
   "interpreter": {
    "hash": "916dbcbb3f70747c44a77c7bcd40155683ae19c65e1c03b4aa3499c5328201f1"
   }
  }
 },
 "nbformat": 4,
 "nbformat_minor": 2
}
