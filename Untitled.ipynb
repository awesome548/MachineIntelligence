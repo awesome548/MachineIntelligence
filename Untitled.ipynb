{
 "cells": [
  {
   "cell_type": "code",
   "execution_count": 1,
   "id": "c40ed475-139a-4479-9c1e-786c1a95bcb8",
   "metadata": {},
   "outputs": [
    {
     "name": "stdout",
     "output_type": "stream",
     "text": [
      "Requirement already satisfied: torchinfo in ./anaconda3/lib/python3.9/site-packages (1.7.0)\n",
      "\u001b[33mWARNING: There was an error checking the latest version of pip.\u001b[0m\u001b[33m\n",
      "\u001b[0m"
     ]
    }
   ],
   "source": [
    "! pip install torchinfo\n",
    "import csv\n",
    "\n",
    "import numpy as np\n",
    "import matplotlib.pyplot as plt\n",
    "import pandas as pd\n",
    "import torch\n",
    "import torch.nn as nn\n",
    "import torch.nn.functional as F\n",
    "from sklearn.preprocessing import MinMaxScaler\n",
    "from torchinfo import summary"
   ]
  },
  {
   "cell_type": "code",
   "execution_count": 2,
   "id": "cdae3938-73a6-40fc-a81a-0c840ff382cf",
   "metadata": {},
   "outputs": [
    {
     "name": "stdout",
     "output_type": "stream",
     "text": [
      "01:00.0 VGA compatible controller: NVIDIA Corporation Device 2504 (rev a1)\n",
      "01:00.1 Audio device: NVIDIA Corporation Device 228e (rev a1)\n"
     ]
    }
   ],
   "source": [
    "%%bash\n",
    "lspci | grep -i nvidia"
   ]
  },
  {
   "cell_type": "code",
   "execution_count": 3,
   "id": "c6712e34-7bf4-407e-855d-f3198b50f00b",
   "metadata": {},
   "outputs": [],
   "source": [
    "path = \"./Downloads/UCI HAR Dataset/\"\n",
    "mmscaler = MinMaxScaler(feature_range=(-1, 1), copy=True)\n",
    "\n",
    "ax = mmscaler.fit_transform(np.loadtxt(path + \"train/Inertial Signals/total_acc_x_train.txt\"))\n",
    "ay = mmscaler.fit_transform(np.loadtxt(path + \"train/Inertial Signals/total_acc_y_train.txt\"))\n",
    "az = mmscaler.fit_transform(np.loadtxt(path + \"train/Inertial Signals/total_acc_z_train.txt\"))\n",
    "\n",
    "t = np.loadtxt(path + \"train/y_train.txt\")\n",
    "s = np.loadtxt(path + \"train/subject_train.txt\")"
   ]
  },
  {
   "cell_type": "code",
   "execution_count": 4,
   "id": "41f43abc-8931-483d-8da8-f5b892b0fb63",
   "metadata": {},
   "outputs": [
    {
     "name": "stdout",
     "output_type": "stream",
     "text": [
      "[[ 0.13024061  0.15010218  0.14755776 ...  0.12193208  0.13188451\n",
      "   0.15911523]\n",
      " [ 0.13504847  0.14973599  0.1465566  ...  0.11908529  0.12961762\n",
      "   0.15642846]\n",
      " [ 0.13845557  0.14933341  0.14526961 ...  0.12395294  0.13469584\n",
      "   0.15980107]\n",
      " ...\n",
      " [-0.07527324 -0.0265445  -0.00523774 ... -0.12936651 -0.08230794\n",
      "  -0.0385529 ]\n",
      " [ 0.06260044  0.06130501  0.06938465 ... -0.14515222 -0.15140568\n",
      "  -0.08498897]\n",
      " [-0.04085229 -0.014477    0.02219446 ...  0.02824542 -0.0188207\n",
      "  -0.01956696]]\n",
      "(7352, 128)\n",
      "(7352,)\n",
      "(7352,)\n"
     ]
    }
   ],
   "source": [
    "print(ax)\n",
    "print(ay.shape)\n",
    "# 7352, 128sample(time)\n",
    "print(t.shape)\n",
    "# 1行7352列\n",
    "print(s.shape)"
   ]
  },
  {
   "cell_type": "markdown",
   "id": "baf1e081-66a3-4235-bb19-f9b6bbeaa171",
   "metadata": {},
   "source": [
    "## テスト用のdataBを作成"
   ]
  },
  {
   "cell_type": "code",
   "execution_count": 5,
   "id": "9b4db4eb-fb05-469e-9de3-49719a027669",
   "metadata": {},
   "outputs": [],
   "source": [
    "test_ax = mmscaler.fit_transform(np.loadtxt(path + \"test/Inertial Signals/total_acc_x_test.txt\"))\n",
    "test_ay = mmscaler.fit_transform(np.loadtxt(path + \"test/Inertial Signals/total_acc_y_test.txt\"))\n",
    "test_az = mmscaler.fit_transform(np.loadtxt(path + \"test/Inertial Signals/total_acc_z_test.txt\"))\n",
    "\n",
    "test_t = np.loadtxt(path + \"test/y_test.txt\")\n",
    "test_s = np.loadtxt(path + \"test/subject_test.txt\")"
   ]
  },
  {
   "cell_type": "code",
   "execution_count": 6,
   "id": "eb8e2fe8-18a3-471a-b326-f86a8cab343d",
   "metadata": {},
   "outputs": [
    {
     "name": "stdout",
     "output_type": "stream",
     "text": [
      "(2947, 128)\n",
      "[ 2.  2.  2. ... 24. 24. 24.]\n",
      "(2947,)\n",
      "[[ 2.]\n",
      " [ 2.]\n",
      " [ 2.]\n",
      " ...\n",
      " [24.]\n",
      " [24.]\n",
      " [24.]]\n",
      "(2947, 1)\n"
     ]
    }
   ],
   "source": [
    "print(test_ax.shape)\n",
    "print(test_s)\n",
    "print(test_s.shape)\n",
    "print(test_s.reshape(-1,1))\n",
    "print(test_s.reshape(-1,1).shape)"
   ]
  },
  {
   "cell_type": "markdown",
   "id": "49494aae-eff3-4560-a7cd-54e2b0d5d4fc",
   "metadata": {},
   "source": [
    "## dataのへんけい"
   ]
  },
  {
   "cell_type": "code",
   "execution_count": 7,
   "id": "28f3cac3-80a7-46b5-8d0c-dc42dc5151af",
   "metadata": {},
   "outputs": [],
   "source": [
    "train_size = 7352\n",
    "test_size = 2947\n",
    "dim_size = 3\n",
    "sample_size = 128"
   ]
  },
  {
   "cell_type": "code",
   "execution_count": 8,
   "id": "873acd7c-f30c-42b6-96db-824937cea6cd",
   "metadata": {},
   "outputs": [
    {
     "name": "stdout",
     "output_type": "stream",
     "text": [
      "trX.shape initial:(7352, 128, 3)\n",
      "trX.shape assigned:(7352, 128, 3)\n",
      "(7352, 1)\n",
      "teX.shape initial:(2947, 128, 3)\n",
      "trX.shape assigned:(2947, 128, 3)\n"
     ]
    }
   ],
   "source": [
    "# trX = (7352, 128, 3) ... trainのX\n",
    "trX = np.ones((train_size, sample_size, dim_size), float)\n",
    "print('trX.shape initial:{0}'.format(trX.shape))\n",
    "for i in range(train_size):\n",
    "  temp1 = np.ones((dim_size, sample_size), float)\n",
    "  temp1[0,:] = ax[i,:]\n",
    "  temp1[1,:] = ay[i,:]\n",
    "  temp1[2,:] = az[i,:]\n",
    "  trX[i,:,:] = temp1.reshape(-1,3)\n",
    "print('trX.shape assigned:{0}'.format(trX.shape))\n",
    "\n",
    "# t(movement label) or s(subject label) or both ... trainのY (7352,1)\n",
    "trY = t.reshape(-1,1)\n",
    "print(trY.shape)\n",
    "# teX = (2947, 3, 128) ... testのX\n",
    "teX = np.ones((test_size, sample_size, dim_size), float)\n",
    "print('teX.shape initial:{0}'.format(teX.shape))\n",
    "for i in range(test_size):\n",
    "  temp2 = np.ones((dim_size, sample_size), float)\n",
    "  temp2[0,:] = test_ax[i,:]\n",
    "  temp2[1,:] = test_ay[i,:]\n",
    "  temp2[2,:] = test_az[i,:]\n",
    "  teX[i,:,:] = temp2.reshape(-1,3)\n",
    "print('trX.shape assigned:{0}'.format(teX.shape))\n",
    "\n",
    "# testのY 2947行1列\n",
    "teY = test_t.reshape(-1,1)"
   ]
  },
  {
   "cell_type": "code",
   "execution_count": 9,
   "id": "455e1945-a94b-4c96-aba7-c672cd82d41e",
   "metadata": {},
   "outputs": [
    {
     "name": "stdout",
     "output_type": "stream",
     "text": [
      "(7352, 1) (2947, 1)\n",
      "datax.shape:(10299, 128, 3)\n",
      "datay.shape:(10299, 1)\n",
      "trainYshape:torch.Size([7352, 1])\n"
     ]
    }
   ],
   "source": [
    "datax = np.vstack([trX, teX])\n",
    "print(trY.shape, teY.shape)\n",
    "print('datax.shape:{0}'.format(datax.shape))\n",
    "datay = np.vstack([trY, teY])\n",
    "print('datay.shape:{0}'.format(datay.shape))\n",
    "\n",
    "# dataX = trX and teX (10299, 3, 128)\n",
    "dataX = torch.Tensor(np.array(datax))\n",
    "# dataY = trY and teY (10299,1)\n",
    "dataY = torch.Tensor(np.array(datay))\n",
    "\n",
    "\n",
    "trainX = torch.Tensor(np.array(trX))\n",
    "trainY = torch.Tensor(np.array(trY))\n",
    "print('trainYshape:{0}'.format(trainY.shape))\n",
    "\n",
    "# testX = torch.Tensor(np.array(teX))\n",
    "# testY = torch.Tensor(np.array(teY))"
   ]
  },
  {
   "cell_type": "code",
   "execution_count": 10,
   "id": "aa3509fe",
   "metadata": {},
   "outputs": [
    {
     "name": "stdout",
     "output_type": "stream",
     "text": [
      "torch.Size([7352])\n",
      "tensor(0) tensor(5)\n",
      "torch.Size([7352, 6])\n",
      "tensor([[0., 0., 0., 0., 1., 0.],\n",
      "        [0., 0., 0., 0., 1., 0.],\n",
      "        [0., 0., 0., 0., 1., 0.],\n",
      "        ...,\n",
      "        [0., 1., 0., 0., 0., 0.],\n",
      "        [0., 1., 0., 0., 0., 0.],\n",
      "        [0., 1., 0., 0., 0., 0.]])\n"
     ]
    }
   ],
   "source": [
    "# trainYをone-hotにするためlongにして1次元配列に戻す　-> min~maxを0~5に直す\n",
    "trainY = trainY.view(-1).long() - 1\n",
    "print(trainY.shape)\n",
    "print(torch.min(trainY), torch.max(trainY))\n",
    "\n",
    "# one-hotにする -> 誤差を計算できるようにfloatに直す\n",
    "trainY = F.one_hot(trainY, num_classes=-1)\n",
    "trainY = trainY.float()\n",
    "print(trainY.shape)\n",
    "print(trainY)"
   ]
  },
  {
   "cell_type": "markdown",
   "id": "22f2a37a-7540-463b-914f-e3e388db70f8",
   "metadata": {},
   "source": [
    "## モデル"
   ]
  },
  {
   "cell_type": "code",
   "execution_count": 11,
   "id": "d1c1c5a5-ddec-4f86-b90d-1ed6ce0836fb",
   "metadata": {},
   "outputs": [
    {
     "name": "stdout",
     "output_type": "stream",
     "text": [
      "==========================================================================================\n",
      "Layer (type:depth-idx)                   Output Shape              Param #\n",
      "==========================================================================================\n",
      "MyLSTM                                   [7352, 6]                 --\n",
      "├─LSTM: 1-1                              [7352, 128, 70]           21,000\n",
      "├─ReLU: 1-2                              [7352, 70]                --\n",
      "├─Linear: 1-3                            [7352, 6]                 426\n",
      "├─Softmax: 1-4                           [7352, 6]                 --\n",
      "==========================================================================================\n",
      "Total params: 21,426\n",
      "Trainable params: 21,426\n",
      "Non-trainable params: 0\n",
      "Total mult-adds (G): 19.77\n",
      "==========================================================================================\n",
      "Input size (MB): 11.29\n",
      "Forward/backward pass size (MB): 527.34\n",
      "Params size (MB): 0.09\n",
      "Estimated Total Size (MB): 538.72\n",
      "==========================================================================================\n"
     ]
    }
   ],
   "source": [
    "class MyLSTM(nn.Module):\n",
    "    def __init__(self):\n",
    "        super().__init__()\n",
    "        self.hidden_size = 70\n",
    "        self.lstm = nn.LSTM(input_size=3, hidden_size=self.hidden_size, num_layers=1, batch_first=True) \n",
    "        self.relu = nn.ReLU()\n",
    "        self.linear = nn.Linear(70, 6)\n",
    "        self.softmax = nn.Softmax(-1)\n",
    "\n",
    "    def forward(self, x):\n",
    "        h_0 = torch.zeros(1, x.size(0), self.hidden_size)\n",
    "        c_0 = torch.zeros(1, x.size(0), self.hidden_size)\n",
    "        _, (h_out, _) = self.lstm(x, (h_0, c_0))\n",
    "        h_out = h_out.view(-1, self.hidden_size)\n",
    "        h_out = self.relu(h_out)\n",
    "        h_out = self.linear(h_out)\n",
    "        y_hat = self.softmax(h_out)\n",
    "        return y_hat\n",
    "\n",
    "print(summary(MyLSTM(), input_size=(7352, 128, 3), device=torch.device(\"cpu\")))  "
   ]
  },
  {
   "cell_type": "code",
   "execution_count": 12,
   "id": "f8658f9f-c2a9-4299-9152-a4829a98205e",
   "metadata": {},
   "outputs": [],
   "source": [
    "\"\"\"\n",
    "def train(model, optimizer):\n",
    "  model.train()\n",
    "  y_hat = model(trainX)\n",
    "  print(y_hat)\n",
    "  loss = F.mse_loss(y_hat, trainY)\n",
    "  print(loss)\n",
    "  optimizer.zero_grad()\n",
    "  loss.backward()\n",
    "  optimizer.step()\n",
    "  return loss.item()\n",
    "\"\"\"\n",
    "\n",
    "loss = []\n",
    "\n",
    "def main():\n",
    "  mylstm = MyLSTM()\n",
    "  optimizer = torch.optim.Adam(mylstm.parameters(), lr=0.01)\n",
    "\n",
    "  for epoch in range(50):\n",
    "    # train process\n",
    "    mylstm.train()\n",
    "    y_hat = mylstm(trainX)\n",
    "    #print(y_hat.shape)\n",
    "    _loss = F.mse_loss(y_hat, trainY)\n",
    "    #print(_loss)\n",
    "    optimizer.zero_grad()\n",
    "    _loss.backward()\n",
    "    optimizer.step()\n",
    "    \n",
    "    loss.append(_loss)\n",
    "    if epoch % 20 == 0:\n",
    "      print(f\"Epoch = {epoch+1}, Loss = {_loss:.5f}\")\n",
    "  return mylstm\n"
   ]
  },
  {
   "cell_type": "markdown",
   "id": "acd6ed6e",
   "metadata": {},
   "source": [
    "## 学習"
   ]
  },
  {
   "cell_type": "code",
   "execution_count": 13,
   "id": "84e19bac-3e85-462f-b1da-6c52bd93dc11",
   "metadata": {},
   "outputs": [
    {
     "name": "stdout",
     "output_type": "stream",
     "text": [
      "Epoch = 1, Loss = 0.13893\n",
      "Epoch = 21, Loss = 0.13250\n",
      "Epoch = 41, Loss = 0.12025\n"
     ]
    }
   ],
   "source": [
    "model = main()"
   ]
  },
  {
   "cell_type": "markdown",
   "id": "49f13dd5",
   "metadata": {},
   "source": [
    "## 推論"
   ]
  },
  {
   "cell_type": "code",
   "execution_count": 14,
   "id": "b62a8c5b-87fd-46fc-848c-d8f31125c68a",
   "metadata": {},
   "outputs": [],
   "source": [
    "def predict(model):\n",
    "  model.eval()\n",
    "  train_predict = model(dataX)\n",
    "\n",
    "  #data_predict = train_predict.data.numpy()\n",
    "  #dataY_plot = dataY.data.numpy()\n",
    "  # output tensor.argmax\n",
    "  \n",
    "  data_predict = torch.argmax(train_predict, dim=-1)\n",
    "  data_predict = F.one_hot(data_predict, num_classes=-1)\n",
    "  \n",
    "  metric = ConfusionMatrix(num_classes=6)\n",
    "  metric.attach(default_evaluator, 'cm')\n",
    "  y_true = dataY.view(-1).int()\n",
    "  y_pred = data_predict\n",
    "  print(y_true.shape)\n",
    "  print(y_pred.shape)\n",
    "\n",
    "  state = default_evaluator.run([[y_pred, y_true]])\n",
    "  print(state.metrics['cm'])"
   ]
  },
  {
   "cell_type": "code",
   "execution_count": 15,
   "id": "d22b38a0",
   "metadata": {},
   "outputs": [],
   "source": [
    "from collections import OrderedDict\n",
    "\n",
    "import torch\n",
    "from torch import nn, optim\n",
    "\n",
    "from ignite.engine import *\n",
    "from ignite.handlers import *\n",
    "from ignite.metrics import *\n",
    "from ignite.utils import *\n",
    "from ignite.contrib.metrics.regression import *\n",
    "from ignite.contrib.metrics import *\n",
    "\n",
    "# create default evaluator for doctests\n",
    "\n",
    "def eval_step(engine, batch):\n",
    "    return batch\n",
    "\n",
    "default_evaluator = Engine(eval_step)\n",
    "\n",
    "# create default optimizer for doctests\n",
    "\n",
    "param_tensor = torch.zeros([1], requires_grad=True)\n",
    "default_optimizer = torch.optim.SGD([param_tensor], lr=0.1)\n",
    "\n",
    "# create default trainer for doctests\n",
    "# as handlers could be attached to the trainer,\n",
    "# each test must define his own trainer using `.. testsetup:`\n",
    "\n",
    "def get_default_trainer():\n",
    "\n",
    "    def train_step(engine, batch):\n",
    "        return batch\n",
    "\n",
    "    return Engine(train_step)\n",
    "\n",
    "# create default model for doctests\n",
    "\n",
    "default_model = nn.Sequential(OrderedDict([\n",
    "    ('base', nn.Linear(4, 2)),\n",
    "    ('fc', nn.Linear(2, 1))\n",
    "]))\n",
    "\n",
    "manual_seed(666)"
   ]
  },
  {
   "cell_type": "code",
   "execution_count": 16,
   "id": "a6c362ec-0aaa-41b3-92b5-30e7262ec625",
   "metadata": {},
   "outputs": [
    {
     "name": "stdout",
     "output_type": "stream",
     "text": [
      "torch.Size([10299])\n",
      "torch.Size([10299, 6])\n",
      "tensor([[   0,    0,    0,    0,    0,    0],\n",
      "        [   0,  786,    0,   75,  861,    0],\n",
      "        [   0,  950,    0,   72,  522,    0],\n",
      "        [   0,  629,    0,   93,  664,   20],\n",
      "        [   0,  292,    0,  830,  655,    0],\n",
      "        [   0,  604,    0,   77, 1225,    0]])\n"
     ]
    }
   ],
   "source": [
    "predict(model)"
   ]
  },
  {
   "cell_type": "code",
   "execution_count": null,
   "id": "55596642-c9a0-4b43-b7b5-8bff5d56b93e",
   "metadata": {},
   "outputs": [],
   "source": []
  },
  {
   "cell_type": "code",
   "execution_count": null,
   "id": "3aa393ba",
   "metadata": {},
   "outputs": [],
   "source": []
  }
 ],
 "metadata": {
  "kernelspec": {
   "display_name": "Python 3 (ipykernel)",
   "language": "python",
   "name": "python3"
  },
  "language_info": {
   "codemirror_mode": {
    "name": "ipython",
    "version": 3
   },
   "file_extension": ".py",
   "mimetype": "text/x-python",
   "name": "python",
   "nbconvert_exporter": "python",
   "pygments_lexer": "ipython3",
   "version": "3.9.12"
  }
 },
 "nbformat": 4,
 "nbformat_minor": 5
}
